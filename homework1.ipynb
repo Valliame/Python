{
 "cells": [
  {
   "cell_type": "code",
   "execution_count": 2,
   "id": "e366bb89",
   "metadata": {},
   "outputs": [
    {
     "name": "stdout",
     "output_type": "stream",
     "text": [
      "55\n"
     ]
    }
   ],
   "source": [
    "def fib_iterative(n):\n",
    "    if n == 0:\n",
    "        return 0\n",
    "    elif n == 1:\n",
    "        return 1\n",
    "\n",
    "    a, b = 0, 1\n",
    "    for _ in range(2, n + 1):\n",
    "        a, b = b, a + b\n",
    "    return b\n",
    "\n",
    "# Test\n",
    "print(fib_iterative(10))"
   ]
  },
  {
   "cell_type": "code",
   "execution_count": 1,
   "id": "853fbcce",
   "metadata": {},
   "outputs": [
    {
     "name": "stdout",
     "output_type": "stream",
     "text": [
      "55\n"
     ]
    }
   ],
   "source": [
    "def fib_recursive(n):\n",
    "    if n <= 1:\n",
    "        return n\n",
    "    return fib_recursive(n - 1) + fib_recursive(n - 2)\n",
    "\n",
    "# Test\n",
    "print(fib_recursive(10))"
   ]
  },
  {
   "cell_type": "code",
   "execution_count": 3,
   "id": "4f663fe9",
   "metadata": {},
   "outputs": [],
   "source": [
    "def multiply_matrices(A, B):\n",
    "    return [\n",
    "        [A[0][0] * B[0][0] + A[0][1] * B[1][0], A[0][0] * B[0][1] + A[0][1] * B[1][1]],\n",
    "        [A[1][0] * B[0][0] + A[1][1] * B[1][0], A[1][0] * B[0][1] + A[1][1] * B[1][1]]\n",
    "    ]"
   ]
  },
  {
   "cell_type": "code",
   "execution_count": 5,
   "id": "9a3a6137",
   "metadata": {},
   "outputs": [],
   "source": [
    "def matrix_power(M, p):\n",
    "    if p == 1:\n",
    "        return M\n",
    "    if p % 2 == 0:\n",
    "        half_power = matrix_power(M, p // 2)\n",
    "        return multiply_matrices(half_power, half_power)\n",
    "    else:\n",
    "        return multiply_matrices(M, matrix_power(M, p - 1))"
   ]
  },
  {
   "cell_type": "code",
   "execution_count": 6,
   "id": "e1f26882",
   "metadata": {},
   "outputs": [
    {
     "name": "stdout",
     "output_type": "stream",
     "text": [
      "55\n"
     ]
    }
   ],
   "source": [
    "def fib_matrix(n):\n",
    "    if n == 0:\n",
    "        return 0\n",
    "    F = [[1, 1], [1, 0]]\n",
    "    result = matrix_power(F, n - 1)\n",
    "    return result[0][0]\n",
    "\n",
    "# Test\n",
    "print(fib_matrix(10))"
   ]
  },
  {
   "cell_type": "code",
   "execution_count": 8,
   "id": "e5d2cf53",
   "metadata": {},
   "outputs": [
    {
     "name": "stdout",
     "output_type": "stream",
     "text": [
      "89\n",
      "CPU times: total: 0 ns\n",
      "Wall time: 0 ns\n"
     ]
    }
   ],
   "source": [
    "%%time\n",
    "print(fib_recursive(11))"
   ]
  },
  {
   "cell_type": "code",
   "execution_count": 17,
   "id": "05abe330",
   "metadata": {},
   "outputs": [
    {
     "name": "stdout",
     "output_type": "stream",
     "text": [
      "139423224561697880139724382870407283950070256587697307264108962948325571622863290691557658876222521294125\n",
      "CPU times: total: 0 ns\n",
      "Wall time: 0 ns\n"
     ]
    }
   ],
   "source": [
    "%%time\n",
    "print(fib_iterative(500))"
   ]
  },
  {
   "cell_type": "code",
   "execution_count": 11,
   "id": "667a6eb0",
   "metadata": {},
   "outputs": [
    {
     "name": "stdout",
     "output_type": "stream",
     "text": [
      "830126021787055047622441572678655992350572415327460154154529445889109757788994107326186690751365241695215886721154737728593181500199549345260535478509541567521282541694147401525840003191120565\n",
      "CPU times: total: 0 ns\n",
      "Wall time: 0 ns\n"
     ]
    }
   ],
   "source": [
    "%%time\n",
    "print(fib_matrix(920))"
   ]
  },
  {
   "cell_type": "code",
   "execution_count": null,
   "id": "0c7048e1",
   "metadata": {},
   "outputs": [],
   "source": []
  }
 ],
 "metadata": {
  "kernelspec": {
   "display_name": "Python 3 (ipykernel)",
   "language": "python",
   "name": "python3"
  },
  "language_info": {
   "codemirror_mode": {
    "name": "ipython",
    "version": 3
   },
   "file_extension": ".py",
   "mimetype": "text/x-python",
   "name": "python",
   "nbconvert_exporter": "python",
   "pygments_lexer": "ipython3",
   "version": "3.10.9"
  }
 },
 "nbformat": 4,
 "nbformat_minor": 5
}
